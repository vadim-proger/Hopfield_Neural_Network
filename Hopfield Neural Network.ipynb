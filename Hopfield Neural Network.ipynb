{
 "cells": [
  {
   "cell_type": "code",
   "execution_count": 1,
   "metadata": {},
   "outputs": [],
   "source": [
    "import numpy as np"
   ]
  },
  {
   "cell_type": "code",
   "execution_count": 2,
   "metadata": {},
   "outputs": [],
   "source": [
    "def weightmatrix(v, z):\n",
    "    W=[]\n",
    "    r=range(len(z))\n",
    "    for i in r:\n",
    "        W.append([0 for x in r])\n",
    "    \n",
    "    for i in r:\n",
    "        for j in r:\n",
    "            for example in range(len(v)):\n",
    "                if i != j:\n",
    "                    W[i][j] += v[example][i] * v[example][j]\n",
    "    \n",
    "    return W"
   ]
  },
  {
   "cell_type": "code",
   "execution_count": 115,
   "metadata": {},
   "outputs": [],
   "source": [
    "def hop(vin, zin, itnum):\n",
    "    it=1\n",
    "    v = vin\n",
    "    z = zin\n",
    "    w = np.array(weightmatrix(v, z))\n",
    "    wz=np.array([])\n",
    "    error=[]\n",
    "    while(it<=itnum):\n",
    "        wz=w.dot(z)\n",
    "        #print(wz)\n",
    "        fwz=[]\n",
    "        for i in wz: \n",
    "            if i>=0: \n",
    "                fwz.append(1) \n",
    "            else: \n",
    "                fwz.append(-1)\n",
    "        #print(fwz)\n",
    "        error=np.array(fwz)-z\n",
    "        print(\"Итерация - \",it,\":  Error = \",error)\n",
    "       \n",
    "        if  fwz==list(z):\n",
    "            print(\"Распознано!\")\n",
    "            break\n",
    "        \n",
    "        else:\n",
    "            z=np.array(fwz)\n",
    "        it+=1\n",
    "    if it > itnum:\n",
    "        print(\"Количество итераций не достаточно.:(\")\n",
    "    \n",
    "    return print(\"Количество итераций = \",it,\"\\nРаспознанный объект:\"), plt.imshow(np.array(fwz).reshape(7,4),cmap=\"RdPu\")\n",
    "        "
   ]
  },
  {
   "cell_type": "code",
   "execution_count": 5,
   "metadata": {},
   "outputs": [],
   "source": [
    "import matplotlib.pyplot as plt\n",
    "%matplotlib inline"
   ]
  },
  {
   "cell_type": "code",
   "execution_count": 104,
   "metadata": {},
   "outputs": [],
   "source": [
    "A=np.array([1,-1,1,-1,1,-1,1,-1,1,-1,1,-1,1,-1,1,-1,1,1,1,1,-1,-1,1,-1,-1,-1,1,-1]) #Создаем первый образец\n",
    "B=np.array([1,1,1,1,1,-1,-1,-1,1,1,1,-1,-1,-1,-1,1,1,-1,-1,1,1,-1,-1,1,-1,1,1,-1]) #Создаем второй образец\n",
    "C=np.array([1,1,1,1,-1,-1,-1,1,-1,-1,1,-1,-1,1,-1,-1,-1,1,-1,-1,-1,1,-1,-1,-1,1,-1,-1]) #Создаем третий образец\n",
    "Z=np.array([-1,1,1,1,1,-1,-1,-1,-1,1,1,-1,-1,-1,-1,1,1,-1,1,1,1,-1,-1,1,-1,1,1,-1]) #Создаем объект для распознавания\n",
    "Y=[A]+[B]+[C]"
   ]
  },
  {
   "cell_type": "code",
   "execution_count": 111,
   "metadata": {},
   "outputs": [
    {
     "data": {
      "image/png": "[encoded data removed]",
      "text/plain": [
       "<Figure size 432x288 with 1 Axes>"
      ]
     },
     "metadata": {
      "needs_background": "light"
     },
     "output_type": "display_data"
    }
   ],
   "source": [
    "plt.imshow(A.reshape(7,4),cmap=\"RdPu\");"
   ]
  },
  {
   "cell_type": "code",
   "execution_count": 112,
   "metadata": {},
   "outputs": [
    {
     "data": {
      "image/png": "[encoded data removed]",
      "text/plain": [
       "<Figure size 432x288 with 1 Axes>"
      ]
     },
     "metadata": {
      "needs_background": "light"
     },
     "output_type": "display_data"
    }
   ],
   "source": [
    "plt.imshow(B.reshape(7,4),cmap=\"RdPu\");"
   ]
  },
  {
   "cell_type": "code",
   "execution_count": 113,
   "metadata": {},
   "outputs": [
    {
     "data": {
      "image/png": "[encoded data removed]",
      "text/plain": [
       "<Figure size 432x288 with 1 Axes>"
      ]
     },
     "metadata": {
      "needs_background": "light"
     },
     "output_type": "display_data"
    }
   ],
   "source": [
    "plt.imshow(C.reshape(7,4),cmap=\"RdPu\");"
   ]
  },
  {
   "cell_type": "code",
   "execution_count": 114,
   "metadata": {},
   "outputs": [
    {
     "data": {
      "image/png": "[encoded data removed]",
      "text/plain": [
       "<Figure size 432x288 with 1 Axes>"
      ]
     },
     "metadata": {
      "needs_background": "light"
     },
     "output_type": "display_data"
    }
   ],
   "source": [
    "plt.imshow(Z.reshape(7,4),cmap=\"RdPu\");"
   ]
  },
  {
   "cell_type": "code",
   "execution_count": 116,
   "metadata": {},
   "outputs": [
    {
     "name": "stdout",
     "output_type": "stream",
     "text": [
      "Итерация -  1 :  Error =  [ 2  0  0  0  0  0  0  0  2  0  0  0  0  0  0  0  0  0 -2  0  0  0  0  0\n",
      "  0  0  0  0]\n",
      "Итерация -  2 :  Error =  [0 0 0 0 0 0 0 0 0 0 0 0 0 0 0 0 0 0 0 0 0 0 0 0 0 0 0 0]\n",
      "Распознано!\n",
      "Количество итераций =  2 \n",
      "Распознанный объект:\n"
     ]
    },
    {
     "data": {
      "text/plain": [
       "(None, <matplotlib.image.AxesImage at 0x3891ee75f8>)"
      ]
     },
     "execution_count": 116,
     "metadata": {},
     "output_type": "execute_result"
    },
    {
     "data": {
      "image/png": "[encoded data removed]",
      "text/plain": [
       "<Figure size 432x288 with 1 Axes>"
      ]
     },
     "metadata": {
      "needs_background": "light"
     },
     "output_type": "display_data"
    }
   ],
   "source": [
    "hop(Y,Z,40)"
   ]
  },
  {
   "cell_type": "code",
   "execution_count": null,
   "metadata": {},
   "outputs": [],
   "source": []
  }
 ],
 "metadata": {
  "kernelspec": {
   "display_name": "Python 3",
   "language": "python",
   "name": "python3"
  },
  "language_info": {
   "codemirror_mode": {
    "name": "ipython",
    "version": 3
   },
   "file_extension": ".py",
   "mimetype": "text/x-python",
   "name": "python",
   "nbconvert_exporter": "python",
   "pygments_lexer": "ipython3",
   "version": "3.6.8"
  }
 },
 "nbformat": 4,
 "nbformat_minor": 2
}
